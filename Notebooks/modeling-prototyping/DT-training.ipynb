{
 "cells": [
  {
   "cell_type": "code",
   "execution_count": 2,
   "id": "7802259d",
   "metadata": {},
   "outputs": [],
   "source": [
    "from sklearn.tree import DecisionTreeClassifier\n",
    "from sklearn.metrics import precision_recall_curve, classification_report, confusion_matrix\n",
    "import matplotlib.pyplot as plt\n",
    "import numpy as np\n",
    "import pandas as pd\n",
    "from sklearn.model_selection import train_test_split\n"
   ]
  },
  {
   "cell_type": "code",
   "execution_count": 3,
   "id": "3565431f",
   "metadata": {},
   "outputs": [],
   "source": [
    "df = pd.read_csv(\"../../Data/processed/final.csv\")  "
   ]
  },
  {
   "cell_type": "code",
   "execution_count": 4,
   "id": "bdd7f4fc",
   "metadata": {},
   "outputs": [],
   "source": [
    "TARGET_COL = 'result'\n",
    "\n",
    "feature_cols = [\n",
    "    'num_dots',\n",
    "    'num_hyphens', \n",
    "    'num_slashes',\n",
    "    'num_digits',\n",
    "    'num_equals',\n",
    "    'ip_in_url',\n",
    "    'has_highly_susp_keyword',\n",
    "    'hostname_length',\n",
    "    'has_additional_susp_words',\n",
    "    'has_susp_word_in_path',\n",
    "    'has_susp_word_in_hostname',\n",
    "    'has_suspicious_tld',\n",
    "    'has_uncommon_tld',\n",
    "    'url_entropy',\n",
    "    'subdomain_count',\n",
    "    'no_www',\n",
    "    'tld_length',\n",
    "    'short_url',\n",
    "    'consonant_pair_ratio',\n",
    "    'punctuation_density',\n",
    "    'hex_encoding_count',\n",
    "    'num_subdirs',\n",
    "    'AtSymbol',\n",
    "    'NumUnderscore',\n",
    "    'HasQueryString',\n",
    "    # 'filename_length',\n",
    "\n",
    "    'path_length',\n",
    "    \n",
    "    'max_dir_length',\n",
    "\n",
    "    'hostname_uncommonness',\n",
    "    'longest_dir_uncommonness'\n",
    "]\n",
    "\n",
    "X = df[feature_cols]  \n",
    "y = df[TARGET_COL] \n",
    " \n",
    "X_train, X_test, y_train, y_test = train_test_split(X, y, test_size=0.2, stratify=y,\n",
    "                                                     random_state=42)\n"
   ]
  },
  {
   "cell_type": "code",
   "execution_count": 5,
   "id": "7ee0a523",
   "metadata": {},
   "outputs": [],
   "source": [
    "dt = DecisionTreeClassifier(criterion='entropy',\n",
    "                            class_weight='balanced',\n",
    "                            random_state=42)\n"
   ]
  },
  {
   "cell_type": "code",
   "execution_count": 6,
   "id": "ba0dbbb1",
   "metadata": {},
   "outputs": [],
   "source": [
    "dt.fit(X_train, y_train)\n",
    "\n",
    "y_pred = dt.predict(X_test)"
   ]
  },
  {
   "cell_type": "code",
   "execution_count": 7,
   "id": "9388f8b1",
   "metadata": {},
   "outputs": [
    {
     "data": {
      "text/markdown": [
       "**Accuracy:** `0.9805`"
      ],
      "text/plain": [
       "<IPython.core.display.Markdown object>"
      ]
     },
     "metadata": {},
     "output_type": "display_data"
    },
    {
     "data": {
      "text/markdown": [
       "**Matrice de confusion:**\n",
       "```\n",
       "[[68087  1061]\n",
       " [ 1061 38888]]\n",
       "```"
      ],
      "text/plain": [
       "<IPython.core.display.Markdown object>"
      ]
     },
     "metadata": {},
     "output_type": "display_data"
    },
    {
     "data": {
      "text/markdown": [
       "**Rapport de classification:**\n",
       "```\n",
       "              precision    recall  f1-score   support\n",
       "\n",
       "         0.0       0.98      0.98      0.98     69148\n",
       "         1.0       0.97      0.97      0.97     39949\n",
       "\n",
       "    accuracy                           0.98    109097\n",
       "   macro avg       0.98      0.98      0.98    109097\n",
       "weighted avg       0.98      0.98      0.98    109097\n",
       "\n",
       "```"
      ],
      "text/plain": [
       "<IPython.core.display.Markdown object>"
      ]
     },
     "metadata": {},
     "output_type": "display_data"
    }
   ],
   "source": [
    "from IPython.display import Markdown, display\n",
    "from sklearn.metrics import classification_report, confusion_matrix, accuracy_score\n",
    "\n",
    "\n",
    "accuracy = accuracy_score(y_test, y_pred)\n",
    "conf = confusion_matrix(y_test, y_pred)\n",
    "report = classification_report(y_test, y_pred)\n",
    "\n",
    "display(Markdown(f\"**Accuracy:** `{accuracy:.4f}`\"))\n",
    "display(Markdown(f\"**Matrice de confusion:**\\n```\\n{conf}\\n```\"))\n",
    "display(Markdown(f\"**Rapport de classification:**\\n```\\n{report}\\n```\"))\n"
   ]
  },
  {
   "cell_type": "code",
   "execution_count": 8,
   "id": "fc6b72ab",
   "metadata": {},
   "outputs": [
    {
     "name": "stdout",
     "output_type": "stream",
     "text": [
      "Accuracy: 0.9805 (98.05%)\n",
      "Precision: 0.9734 (97.34%)\n",
      "Recall: 0.9734 (97.34%)\n",
      "F1-Score: 0.9734 (97.34%)\n"
     ]
    }
   ],
   "source": [
    "from sklearn.metrics import classification_report, confusion_matrix, accuracy_score,precision_score,recall_score,  f1_score\n",
    "\n",
    "y_pred= dt.predict(X_test)\n",
    "\n",
    "y_pred_binary = (y_pred > 0.5).astype(int)  \n",
    "\n",
    "accuracy = accuracy_score(y_test, y_pred_binary)\n",
    "precision = precision_score(y_test, y_pred_binary)\n",
    "recall = recall_score(y_test, y_pred_binary)\n",
    "f1 = f1_score(y_test, y_pred_binary)\n",
    "\n",
    "print(f\"Accuracy: {accuracy:.4f} ({accuracy*100:.2f}%)\")\n",
    "print(f\"Precision: {precision:.4f} ({precision*100:.2f}%)\")\n",
    "print(f\"Recall: {recall:.4f} ({recall*100:.2f}%)\")\n",
    "print(f\"F1-Score: {f1:.4f} ({f1*100:.2f}%)\")"
   ]
  },
  {
   "cell_type": "code",
   "execution_count": 9,
   "id": "5772a5c0",
   "metadata": {},
   "outputs": [
    {
     "data": {
      "image/png": "[encoded data removed]",
      "text/plain": [
       "<Figure size 640x480 with 1 Axes>"
      ]
     },
     "metadata": {},
     "output_type": "display_data"
    }
   ],
   "source": [
    "from sklearn.metrics import roc_curve, auc\n",
    "import matplotlib.pyplot as plt\n",
    "\n",
    "y_score = dt.predict_proba(X_test)[:, 1]\n",
    "\n",
    "fpr, tpr, _ = roc_curve(y_test, y_score, pos_label=1)\n",
    "roc_auc = auc(fpr, tpr)\n",
    "\n",
    "plt.figure()\n",
    "plt.plot(fpr, tpr, color='darkorange', lw=2, label=f'ROC curve (AUC = {roc_auc:.2f})')\n",
    "plt.plot([0, 1], [0, 1], color='navy', lw=2, linestyle='--')\n",
    "plt.xlabel('False Positive Rate')\n",
    "plt.ylabel('True Positive Rate')\n",
    "plt.title('ROC Curve - Decision Tree')\n",
    "plt.legend(loc=\"lower right\")\n",
    "plt.grid(True)\n",
    "plt.show()\n"
   ]
  }
 ],
 "metadata": {
  "kernelspec": {
   "display_name": "venv",
   "language": "python",
   "name": "python3"
  },
  "language_info": {
   "codemirror_mode": {
    "name": "ipython",
    "version": 3
   },
   "file_extension": ".py",
   "mimetype": "text/x-python",
   "name": "python",
   "nbconvert_exporter": "python",
   "pygments_lexer": "ipython3",
   "version": "3.10.9"
  }
 },
 "nbformat": 4,
 "nbformat_minor": 5
}
