{
 "cells": [
  {
   "cell_type": "code",
   "execution_count": null,
   "id": "5dfdc3c6",
   "metadata": {},
   "outputs": [],
   "source": [
    "import pandas as pd\n",
    "import numpy as np\n",
    "from sklearn.model_selection import train_test_split\n",
    "from sklearn.preprocessing import StandardScaler, MinMaxScaler\n",
    "from sklearn.ensemble import RandomForestClassifier  \n",
    "\n",
    "from sklearn.metrics import accuracy_score, confusion_matrix, classification_report, roc_auc_score, precision_score, recall_score, f1_score, roc_curve\n",
    "import matplotlib.pyplot as plt\n",
    "import seaborn as sns"
   ]
  },
  {
   "cell_type": "code",
   "execution_count": 14,
   "id": "cbf2f0aa",
   "metadata": {},
   "outputs": [],
   "source": [
    "df_RF= pd.read_csv(\"../../Data/processed/urldata-v3-enhanced.csv\")  \n"
   ]
  },
  {
   "cell_type": "code",
   "execution_count": 2,
   "id": "3ee5cbba",
   "metadata": {},
   "outputs": [],
   "source": [
    "df = pd.read_csv(\"../../Data/processed/final.csv\") "
   ]
  },
  {
   "cell_type": "code",
   "execution_count": null,
   "id": "68d0a500",
   "metadata": {},
   "outputs": [
    {
     "name": "stdout",
     "output_type": "stream",
     "text": [
      "Stricter column distribution:\n",
      "has_additional_susp_words\n",
      "0    449376\n",
      "1       800\n",
      "Name: count, dtype: int64\n"
     ]
    }
   ],
   "source": [
    "additional_suspicious_words = [\n",
    "    \"webscr\", \"viewer.php\",        \n",
    "    \"getImage.asp\",      \n",
    "    \"mail.php\",          \n",
    "    \"link=\",            \n",
    "]\n",
    "\n",
    "# \"plugins\", \"personal\", \"update\", \"verification\", \"blog\", \".bin\", \"order\", \"files\"\n",
    "\n",
    "def has_additional_suspicious_words(url):\n",
    "    url_lower = url.lower()\n",
    "    return int(any(word.lower() in url_lower for word in additional_suspicious_words))\n",
    "\n",
    "df_RF['has_additional_susp_words'] = df_RF['url'].apply(has_additional_suspicious_words)\n",
    "\n",
    "print(\"Stricter column distribution:\")\n",
    "print(df_RF['has_additional_susp_words'].value_counts())"
   ]
  },
  {
   "cell_type": "code",
   "execution_count": null,
   "id": "fb72ab50",
   "metadata": {},
   "outputs": [
    {
     "name": "stdout",
     "output_type": "stream",
     "text": [
      "Sample URLs with additional suspicious words (refined):\n",
      "https://www.chicago.gopride.com/news/worldfeed.cfm?golink=5CC3A286EC2463A17244C6BC5797D16BO44550\n",
      "https://www.content.lib.utah.edu/cdm4/item_viewer.php?CISOROOT=/UU_EAD&CISOPTR=1748\n",
      "https://www.content.lib.utah.edu/cdm4/item_viewer.php?CISOROOT=/UU_EAD&CISOPTR=2227\n",
      "https://www.contentdm.acpl.lib.in.us/cdm4/item_viewer.php?CISOROOT=/coll3&CISOPTR=4283&REC=14\n",
      "https://www.dentoncounty.com/dept/main.asp?Dept=124&Link=896\n",
      "https://www.email12.secureserver.net/webmail.php?login=1\n",
      "https://www.ironmaidencommentary.com/?link=tributes&url=index&lang=eng\n",
      "https://www.reflections.mndigital.org/cdm4/item_viewer.php?CISOROOT=/mgs&CISOPTR=780&CISOBOX=1&REC=10\n",
      "https://www.admission.com/index.php?tm_link=tm_homeA_logo&language=en&l=EN\n",
      "https://www.affarilegno.it/it/messages_free.php?id_link=181774&sursa=Italiana&user=&pass=\n"
     ]
    }
   ],
   "source": [
    "print(\"Sample URLs with additional suspicious words (refined):\")\n",
    "sample_with_words = df_RF[df_RF['has_additional_susp_words'] == 1]['url'].head(10)\n",
    "for url in sample_with_words:\n",
    "    print(url)"
   ]
  },
  {
   "cell_type": "code",
   "execution_count": null,
   "id": "099260eb",
   "metadata": {},
   "outputs": [],
   "source": [
    "def add_tld_features(df):\n",
    "    df = df.copy()\n",
    "    \n",
    "    suspicious_tlds = ['tk', 'ml', 'ga', 'cf', 'cc', 'pw', 'top']\n",
    "    df['has_suspicious_tld'] = df['tld'].isin(suspicious_tlds).astype(int)\n",
    "    \n",
    "    common_tlds = ['com', 'org', 'net', 'edu', 'gov']\n",
    "    df['has_uncommon_tld'] = (~df['tld'].isin(common_tlds)).astype(int)\n",
    "    \n",
    "    return df\n",
    "df_RF = add_tld_features(df_RF)"
   ]
  },
  {
   "cell_type": "code",
   "execution_count": null,
   "id": "36336598",
   "metadata": {},
   "outputs": [],
   "source": [
    "from urllib.parse import urlparse\n",
    "\n",
    "MULTIPART_TLDS = {\n",
    "    'co.uk', 'ac.uk', 'gov.uk',\n",
    "    'com.au', 'net.au', 'org.au',\n",
    "    'co.in', 'gov.in',\n",
    "    'co.jp',\n",
    "}\n",
    "\n",
    "def count_subdomains(url_or_domain):\n",
    "    try:\n",
    "        if url_or_domain.startswith(('http://', 'https://')):\n",
    "            domain = urlparse(url_or_domain).netloc\n",
    "        else:\n",
    "            domain = url_or_domain\n",
    "\n",
    "        domain = domain.split(':')[0]\n",
    "        parts = [p for p in domain.split('.') if p]\n",
    "\n",
    "        if len(parts) <= 2:\n",
    "            return 0\n",
    "\n",
    "        tld = \".\".join(parts[-2:])\n",
    "        if tld in MULTIPART_TLDS and len(parts) > 2:\n",
    "            return len(parts) - 3  \n",
    "        else:\n",
    "            return len(parts) - 2  \n",
    "\n",
    "    except Exception:\n",
    "        return 0\n"
   ]
  },
  {
   "cell_type": "code",
   "execution_count": 20,
   "id": "1ca326cd",
   "metadata": {},
   "outputs": [],
   "source": [
    "df_RF['subdomain_count'] = df_RF['url'].apply(count_subdomains)"
   ]
  },
  {
   "cell_type": "code",
   "execution_count": null,
   "id": "5aec15f5",
   "metadata": {},
   "outputs": [],
   "source": [
    "def no_www(url):\n",
    "    try:\n",
    "        hostname = urlparse(url).netloc\n",
    "        return 0 if hostname.startswith(\"www.\") else 1\n",
    "    except:\n",
    "        return 1   \n",
    "df_RF['no_www'] = df_RF['url'].apply(no_www)\n"
   ]
  },
  {
   "cell_type": "code",
   "execution_count": 23,
   "id": "fda7b0c5",
   "metadata": {},
   "outputs": [],
   "source": [
    "import tldextract\n",
    "\n",
    "df_RF['tld'] = df_RF['url'].apply(lambda url: tldextract.extract(url).suffix)"
   ]
  },
  {
   "cell_type": "code",
   "execution_count": 24,
   "id": "c857407a",
   "metadata": {},
   "outputs": [],
   "source": [
    "df_RF['tld_length'] = df_RF['tld'].apply(lambda x: len(x) if isinstance(x, str) else -1)\n"
   ]
  },
  {
   "cell_type": "code",
   "execution_count": null,
   "id": "2fc85251",
   "metadata": {},
   "outputs": [],
   "source": [
    "import re\n",
    "\n",
    "short_url_pattern = re.compile(\n",
    "    r'bit\\.ly|goo\\.gl|shorte\\.st|go2l\\.ink|x\\.co|ow\\.ly|t\\.co|tinyurl|tr\\.im|is\\.gd|cli\\.gs|'\n",
    "    r'yfrog\\.com|migre\\.me|ff\\.im|tiny\\.cc|url4\\.eu|twit\\.ac|su\\.pr|twurl\\.nl|snipurl\\.com|'\n",
    "    r'short\\.to|budurl\\.com|ping\\.fm|post\\.ly|just\\.as|bkite\\.com|snipr\\.com|fic\\.kr|loopt\\.us|'\n",
    "    r'doiop\\.com|short\\.ie|kl\\.am|wp\\.me|rubyurl\\.com|om\\.ly|to\\.ly|bit\\.do|lnkd\\.in|'\n",
    "    r'db\\.tt|qr\\.ae|adf\\.ly|bitly\\.com|cur\\.lv|ow\\.ly|ity\\.im|q\\.gs|po\\.st|bc\\.vc|twitthis\\.com|'\n",
    "    r'u\\.to|j\\.mp|buzurl\\.com|cutt\\.us|u\\.bb|yourls\\.org|prettylinkpro\\.com|scrnch\\.me|'\n",
    "    r'filoops\\.info|vzturl\\.com|qr\\.net|1url\\.com|tweez\\.me|v\\.gd|link\\.zip\\.net',\n",
    "    re.IGNORECASE\n",
    ")\n",
    "\n",
    "def shortening_service(url):\n",
    "    if short_url_pattern.search(url):\n",
    "        return 1  \n",
    "    else:\n",
    "        return 0   \n",
    "\n",
    "df_RF['short_url'] = df_RF['url'].apply(shortening_service)\n"
   ]
  },
  {
   "cell_type": "code",
   "execution_count": null,
   "id": "dbdcf803",
   "metadata": {},
   "outputs": [],
   "source": [
    "from urllib.parse import urlparse\n",
    "import re\n",
    "\n",
    "def consonant_ratio(url):\n",
    "    if not isinstance(url, str) or url.strip() == '':\n",
    "        return 0   \n",
    "\n",
    "    try:\n",
    "        domain = urlparse(url).netloc.lower()\n",
    "    except Exception:\n",
    "        return 0   \n",
    "    \n",
    "    if domain.startswith('www.'):\n",
    "        domain = domain[4:]\n",
    "    \n",
    "    vowels = \"aeiou\"\n",
    "    letters = re.findall(r'[a-z]', domain)\n",
    "    \n",
    "    count_consonant_pairs = 0\n",
    "    total_pairs = 0\n",
    "    \n",
    "    for i in range(len(letters) - 1):\n",
    "        total_pairs += 1\n",
    "        if letters[i] not in vowels and letters[i+1] not in vowels:\n",
    "            count_consonant_pairs += 1\n",
    "    \n",
    "    if total_pairs == 0:\n",
    "        return 0\n",
    "    \n",
    "    return count_consonant_pairs / total_pairs\n",
    "\n",
    "df_RF['consonant_pair_ratio'] = df_RF['url'].apply(consonant_ratio)\n"
   ]
  },
  {
   "cell_type": "code",
   "execution_count": null,
   "id": "d7ea1ae3",
   "metadata": {},
   "outputs": [],
   "source": [
    "import numpy as np\n",
    "import pandas as pd\n",
    "\n",
    "def calculate_entropy(text):\n",
    "    try:\n",
    "        if not isinstance(text, str) or len(text) == 0:\n",
    "            return 0\n",
    "        text = text.lower()\n",
    "        char_counts = pd.Series(list(text)).value_counts()\n",
    "        probs = char_counts / len(text)\n",
    "        entropy = -np.sum(probs * np.log2(probs))\n",
    "        return entropy if not np.isnan(entropy) else 0\n",
    "    except:\n",
    "        return 0\n",
    "\n",
    "from urllib.parse import urlparse\n",
    "\n",
    "def domain_entropy(url):\n",
    "    try:\n",
    "        domain = urlparse(url).netloc.lower()\n",
    "        if domain.startswith(\"www.\"):\n",
    "            domain = domain[4:]\n",
    "        return calculate_entropy(domain)\n",
    "    except:\n",
    "        return 0\n",
    "\n",
    "df_RF['url_entropy'] = df_RF['url'].apply(domain_entropy)\n"
   ]
  },
  {
   "cell_type": "code",
   "execution_count": null,
   "id": "53385b76",
   "metadata": {},
   "outputs": [],
   "source": [
    "import string\n",
    "\n",
    "def punctuation_density(text):\n",
    "    if not isinstance(text, str) or len(text) == 0:\n",
    "        return 0\n",
    "    punct_count = sum(1 for char in text if char in string.punctuation)\n",
    "    return punct_count / len(text)\n",
    "\n",
    "df_RF['punctuation_density'] = df_RF['url'].apply(punctuation_density)\n"
   ]
  },
  {
   "cell_type": "code",
   "execution_count": 30,
   "id": "faf86216",
   "metadata": {},
   "outputs": [],
   "source": [
    "import re\n",
    "\n",
    "def count_hex_encoding(url):\n",
    "    return len(re.findall(r'%[0-9a-fA-F]{2}', url))\n",
    "\n",
    "df_RF['hex_encoding_count'] = df_RF['url'].apply(count_hex_encoding)"
   ]
  },
  {
   "cell_type": "code",
   "execution_count": 31,
   "id": "50c1c959",
   "metadata": {},
   "outputs": [],
   "source": [
    "from urllib.parse import urlparse\n",
    "\n",
    "def count_subdirectories(url):\n",
    "    try:\n",
    "        path = urlparse(url).path\n",
    "        return len([p for p in path.split('/') if p])\n",
    "    except:\n",
    "        return 0\n",
    "\n",
    "df_RF['num_subdirs'] = df_RF['url'].apply(count_subdirectories)\n"
   ]
  },
  {
   "cell_type": "code",
   "execution_count": 32,
   "id": "93789e97",
   "metadata": {},
   "outputs": [],
   "source": [
    "df_RF['AtSymbol'] = df_RF['url'].apply(lambda x: 1 if '@' in x else 0)\n",
    "df_RF['NumUnderscore'] = df_RF['url'].apply(lambda x: x.count('_'))\n"
   ]
  },
  {
   "cell_type": "code",
   "execution_count": 35,
   "id": "7a297c95",
   "metadata": {},
   "outputs": [],
   "source": [
    "\n",
    "def has_query_string(url):\n",
    "    try:\n",
    "        return 1 if '?' in urlparse(url).query else 0\n",
    "    except:\n",
    "        return 0\n",
    "\n",
    "df_RF['HasQueryString'] = df_RF['url'].apply(has_query_string)\n",
    "\n"
   ]
  },
  {
   "cell_type": "code",
   "execution_count": 37,
   "id": "79c8d827",
   "metadata": {},
   "outputs": [],
   "source": [
    "def count_slashes(url):\n",
    "    return url.count('/')\n",
    "\n",
    "df_RF['num_slashes'] = df_RF['url'].apply(count_slashes)\n"
   ]
  },
  {
   "cell_type": "code",
   "execution_count": null,
   "id": "85bf4c0d",
   "metadata": {},
   "outputs": [],
   "source": [
    "def has_mixed_case_domain(url):\n",
    "    domain = re.findall(r'://([^/]+)', url)\n",
    "    if domain:\n",
    "        return 1 if any(c.isupper() for c in domain[0]) else 0\n",
    "    return 0\n",
    "\n",
    "df_RF['mixed_case'] = df_RF['url'].apply(has_mixed_case_domain)\n"
   ]
  },
  {
   "cell_type": "code",
   "execution_count": null,
   "id": "5a416ea3",
   "metadata": {},
   "outputs": [],
   "source": [
    "def get_vowel_consonant_ratio(url):\n",
    "    vowels = len(re.findall(r'[aeiou]', url.lower()))\n",
    "    consonants = len(re.findall(r'[bcdfghjklmnpqrstvwxyz]', url.lower()))\n",
    "    return vowels / max(consonants, 1)\n",
    "\n",
    "df_RF['vowel_cons_ratio'] = df_RF['url'].apply(get_vowel_consonant_ratio)\n"
   ]
  },
  {
   "cell_type": "code",
   "execution_count": 40,
   "id": "f37ee176",
   "metadata": {},
   "outputs": [],
   "source": [
    "def has_https(url):\n",
    "    return 1 if url.startswith('https://') else 0\n",
    "\n",
    "df_RF['has_https'] = df_RF['url'].apply(has_https)"
   ]
  },
  {
   "cell_type": "code",
   "execution_count": null,
   "id": "af20c336",
   "metadata": {},
   "outputs": [],
   "source": [
    "from urllib.parse import urlparse\n",
    "import os \n",
    "def get_path_length(url_string):\n",
    "    if not isinstance(url_string, str): return 0\n",
    "    try:\n",
    "        path = urlparse(url_string).path\n",
    "        return len(path)\n",
    "    except: return 0\n",
    "\n",
    "def get_filename_length(url_string):\n",
    "    if not isinstance(url_string, str): return 0\n",
    "    try:\n",
    "        path = urlparse(url_string).path\n",
    "        filename = os.path.basename(path)  \n",
    "        return len(filename)\n",
    "    except: return 0\n",
    "\n",
    "if 'path_length' not in df_RF.columns:\n",
    "    df_RF['path_length'] = df_RF['url'].apply(get_path_length)\n",
    "if 'filename_length' not in df_RF.columns:\n",
    "    df_RF['filename_length'] = df_RF['url'].apply(get_filename_length)\n"
   ]
  },
  {
   "cell_type": "code",
   "execution_count": null,
   "id": "209a892c",
   "metadata": {},
   "outputs": [],
   "source": [
    "from urllib.parse import urlparse\n",
    "\n",
    "highly_suspicious_words = [  \n",
    "    \"secure\", \"account\", \"login\", \"signin\", \"banking\", \"confirm\",\n",
    "    \"logon\", \"signon\", \"paypal\", \"payment\", \"ebay\" , \".php\", \"abuse\", \"admin\"\n",
    "]\n",
    "all_susp_words = list(set(highly_suspicious_words + additional_suspicious_words))\n",
    "\n",
    "def parse_url_components(url):\n",
    "    try:\n",
    "        parsed = urlparse(url)\n",
    "        hostname = parsed.hostname if parsed.hostname else ''\n",
    "        path = parsed.path if parsed.path else ''\n",
    "        return hostname, path\n",
    "    except:\n",
    "        return '', ''\n",
    "\n",
    "def has_susp_word_in_path(url, word_list):\n",
    "    hostname, path = parse_url_components(url)\n",
    "    for word in word_list:\n",
    "        if word in path.lower(): \n",
    "            return 1\n",
    "    return 0\n",
    "\n",
    "def has_susp_word_in_hostname(url, word_list):\n",
    "    hostname, path = parse_url_components(url)\n",
    "    for word in word_list:\n",
    "        if word in hostname.lower():  \n",
    "            return 1\n",
    "    return 0"
   ]
  },
  {
   "cell_type": "code",
   "execution_count": 69,
   "id": "0b92f2e7",
   "metadata": {},
   "outputs": [],
   "source": [
    "df_RF['has_susp_word_in_path'] = df_RF['url'].apply(has_susp_word_in_path, args=(all_susp_words,))\n",
    "df_RF['has_susp_word_in_hostname'] = df_RF['url'].apply(has_susp_word_in_hostname, args=(all_susp_words,))"
   ]
  },
  {
   "cell_type": "code",
   "execution_count": null,
   "id": "1b4da4d3",
   "metadata": {},
   "outputs": [],
   "source": [
    "def get_max_dir_length(url):\n",
    "    try:\n",
    "        path = urlparse(url).path\n",
    "        directories = [d for d in path.split('/') if d]\n",
    "        if not directories:\n",
    "            return 0\n",
    "        return max(len(d) for d in directories)\n",
    "    except:\n",
    "        return 0  "
   ]
  },
  {
   "cell_type": "code",
   "execution_count": 89,
   "id": "ffae3986",
   "metadata": {},
   "outputs": [],
   "source": [
    "df_RF['max_dir_length'] = df_RF['url'].apply(get_max_dir_length)"
   ]
  },
  {
   "cell_type": "code",
   "execution_count": 3,
   "id": "ecc93741",
   "metadata": {},
   "outputs": [],
   "source": [
    "TARGET_COL = 'result'\n",
    "\n",
    "feature_cols = [ \n",
    "    'num_dots',\n",
    "    'num_hyphens', \n",
    "    'num_slashes',\n",
    "    'num_digits',\n",
    "    'num_equals',\n",
    "    'ip_in_url',\n",
    "    'has_highly_susp_keyword',\n",
    "    'hostname_length',\n",
    "    'has_additional_susp_words',\n",
    "    'has_susp_word_in_path',\n",
    "    'has_susp_word_in_hostname',\n",
    "    'has_suspicious_tld',\n",
    "    'has_uncommon_tld',\n",
    "    'url_entropy',\n",
    "    'subdomain_count',\n",
    "    'no_www',\n",
    "    'tld_length',\n",
    "    'short_url',\n",
    "    'consonant_pair_ratio',\n",
    "    'punctuation_density',\n",
    "    'hex_encoding_count',\n",
    "    'num_subdirs',\n",
    "    'AtSymbol',\n",
    "    'NumUnderscore',\n",
    "    'HasQueryString',\n",
    "    # 'filename_length',\n",
    "\n",
    "    'path_length',\n",
    "    \n",
    "    'max_dir_length',\n",
    "    'hostname_uncommonness',\n",
    "    'longest_dir_uncommonness'\n",
    "]\n",
    "\n",
    "\n",
    "X = df[feature_cols]\n",
    "y = df[TARGET_COL]"
   ]
  },
  {
   "cell_type": "code",
   "execution_count": 146,
   "id": "14fc34f0",
   "metadata": {},
   "outputs": [],
   "source": [
    "df_new = df_RF[feature_cols]"
   ]
  },
  {
   "cell_type": "code",
   "execution_count": 147,
   "id": "4172bcac",
   "metadata": {},
   "outputs": [
    {
     "name": "stdout",
     "output_type": "stream",
     "text": [
      "DataFrame successfully saved to '../../Data/processed/RF/latest.csv'\n"
     ]
    }
   ],
   "source": [
    "new_csv = \"../../Data/processed/RF/latest.csv\"\n",
    "\n",
    "try:\n",
    "    df_new.to_csv(new_csv, index=False)\n",
    "    print(f\"DataFrame successfully saved to '{new_csv}'\")\n",
    "except Exception as e:\n",
    "    print(f\"Error saving DataFrame to CSV: {e}\")\n"
   ]
  },
  {
   "cell_type": "code",
   "execution_count": 4,
   "id": "19c7ea09",
   "metadata": {},
   "outputs": [],
   "source": [
    "X_train, X_test, y_train, y_test = train_test_split(X, y, test_size=0.2, \n",
    "                                                    random_state=42, stratify=y, shuffle=True)"
   ]
  },
  {
   "cell_type": "code",
   "execution_count": 5,
   "id": "bae638bd",
   "metadata": {},
   "outputs": [
    {
     "name": "stdout",
     "output_type": "stream",
     "text": [
      "\n",
      "--- Model Training: Random Forest ---\n",
      "Random Forest model trained successfully.\n"
     ]
    }
   ],
   "source": [
    "print(\"\\n--- Model Training: Random Forest ---\")\n",
    "    \n",
    "rf_model = RandomForestClassifier(n_estimators=400, random_state=42, class_weight='balanced', n_jobs=-1)\n",
    "\n",
    "\n",
    "rf_model.fit(X_train, y_train)\n",
    "\n",
    "print(\"Random Forest model trained successfully.\")"
   ]
  },
  {
   "cell_type": "code",
   "execution_count": null,
   "id": "39f02888",
   "metadata": {},
   "outputs": [
    {
     "data": {
      "text/markdown": [
       "**Accuracy:** `0.9882`"
      ],
      "text/plain": [
       "<IPython.core.display.Markdown object>"
      ]
     },
     "metadata": {},
     "output_type": "display_data"
    },
    {
     "data": {
      "text/markdown": [
       "**Matrice de confusion:**\n",
       "```\n",
       "[[68832   316]\n",
       " [  976 38973]]\n",
       "```"
      ],
      "text/plain": [
       "<IPython.core.display.Markdown object>"
      ]
     },
     "metadata": {},
     "output_type": "display_data"
    },
    {
     "data": {
      "text/markdown": [
       "**Rapport de classification:**\n",
       "```\n",
       "              precision    recall  f1-score   support\n",
       "\n",
       "         0.0       0.99      1.00      0.99     69148\n",
       "         1.0       0.99      0.98      0.98     39949\n",
       "\n",
       "    accuracy                           0.99    109097\n",
       "   macro avg       0.99      0.99      0.99    109097\n",
       "weighted avg       0.99      0.99      0.99    109097\n",
       "\n",
       "```"
      ],
      "text/plain": [
       "<IPython.core.display.Markdown object>"
      ]
     },
     "metadata": {},
     "output_type": "display_data"
    }
   ],
   "source": [
    "from IPython.display import Markdown, display\n",
    "from sklearn.metrics import classification_report, confusion_matrix, accuracy_score\n",
    "\n",
    "y_pred= rf_model.predict(X_test)\n",
    "\n",
    "accuracy = accuracy_score(y_test, y_pred)\n",
    "conf = confusion_matrix(y_test, y_pred)\n",
    "report = classification_report(y_test, y_pred)\n",
    "\n",
    "display(Markdown(f\"**Accuracy:** `{accuracy:.4f}`\"))\n",
    "display(Markdown(f\"**Matrice de confusion:**\\n```\\n{conf}\\n```\"))\n",
    "display(Markdown(f\"**Rapport de classification:**\\n```\\n{report}\\n```\"))\n"
   ]
  },
  {
   "cell_type": "code",
   "execution_count": 10,
   "id": "1ee9ee77",
   "metadata": {},
   "outputs": [
    {
     "name": "stdout",
     "output_type": "stream",
     "text": [
      "Accuracy: 0.9882 (98.82%)\n",
      "Precision: 0.9920 (99.20%)\n",
      "Recall: 0.9756 (97.56%)\n",
      "F1-Score: 0.9837 (98.37%)\n"
     ]
    }
   ],
   "source": [
    "y_pred= rf_model.predict(X_test)\n",
    "\n",
    "y_pred_binary = (y_pred > 0.5).astype(int)  \n",
    "\n",
    "accuracy = accuracy_score(y_test, y_pred_binary)\n",
    "precision = precision_score(y_test, y_pred_binary)\n",
    "recall = recall_score(y_test, y_pred_binary)\n",
    "f1 = f1_score(y_test, y_pred_binary)\n",
    "\n",
    "print(f\"Accuracy: {accuracy:.4f} ({accuracy*100:.2f}%)\")\n",
    "print(f\"Precision: {precision:.4f} ({precision*100:.2f}%)\")\n",
    "print(f\"Recall: {recall:.4f} ({recall*100:.2f}%)\")\n",
    "print(f\"F1-Score: {f1:.4f} ({f1*100:.2f}%)\")"
   ]
  },
  {
   "cell_type": "code",
   "execution_count": null,
   "id": "a0530aa7",
   "metadata": {},
   "outputs": [
    {
     "data": {
      "image/png": "[encoded data removed]",
      "text/plain": [
       "<Figure size 1000x800 with 1 Axes>"
      ]
     },
     "metadata": {},
     "output_type": "display_data"
    }
   ],
   "source": [
    "import pandas as pd\n",
    "import matplotlib.pyplot as plt\n",
    "import seaborn as sns\n",
    "\n",
    "importances = rf_model.feature_importances_\n",
    "feature_names = X.columns  \n",
    "importance_df = pd.DataFrame({'feature': feature_names, 'importance': importances})\n",
    "importance_df = importance_df.sort_values(by='importance', ascending=False)\n",
    "\n",
    "plt.figure(figsize=(10, 8))\n",
    "sns.barplot(x='importance', y='feature', data=importance_df)\n",
    "plt.title('Feature Importance from Random Forest')\n",
    "plt.xlabel('Importance Score')\n",
    "plt.ylabel('Features')\n",
    "plt.show()"
   ]
  },
  {
   "cell_type": "code",
   "execution_count": null,
   "id": "62d5e8ff",
   "metadata": {},
   "outputs": [],
   "source": [
    "feature_names = [\n",
    "    'num_dots', 'num_hyphens', 'num_slashes', 'num_digits', 'num_equals',\n",
    "    'ip_in_url', 'has_highly_susp_keyword', 'hostname_length',\n",
    "    'has_additional_susp_words', 'has_suspicious_tld', 'has_uncommon_tld',\n",
    "    'url_entropy', 'subdomain_count', 'no_www', 'tld_length', 'short_url',\n",
    "    'consonant_pair_ratio', 'punctuation_density', 'hex_encoding_count',\n",
    "    'num_subdirs', 'AtSymbol', 'NumUnderscore', 'HasQueryString', 'path_length',\n",
    "    'has_susp_word_in_path','has_susp_word_in_hostname', 'max_dir_length'\n",
    "]\n",
    "results_df = pd.DataFrame(X_test, columns=feature_names)\n",
    "\n",
    "results_df['true_label'] = y_test\n",
    "results_df['predicted_label'] = y_pred_rf"
   ]
  },
  {
   "cell_type": "code",
   "execution_count": null,
   "id": "6fbe0511",
   "metadata": {},
   "outputs": [
    {
     "name": "stdout",
     "output_type": "stream",
     "text": [
      "Found 960 false negatives to analyze.\n",
      "        num_dots  num_hyphens  num_slashes  num_digits  num_equals  ip_in_url  \\\n",
      "428645         2            0            6           4           0          0   \n",
      "445407         3            4            5          36           4          0   \n",
      "430448         3            0            9           0           0          0   \n",
      "426069         3            0            5           8           0          0   \n",
      "429395         2            0            4           0           0          0   \n",
      "430441         2            0            5           4           0          0   \n",
      "424519         2            0            5           0           0          0   \n",
      "443903         3            0            4           5           1          0   \n",
      "449512         3            1            3           0           0          0   \n",
      "430432         2            1            6           0           0          0   \n",
      "430998         2            0            4           0           0          0   \n",
      "396346         3            2            5           3           1          0   \n",
      "346283         3            0            4           0           0          0   \n",
      "398754         3            0            5           0           0          0   \n",
      "415840         2            1            4           0           0          0   \n",
      "427376         2            2            6           0           0          0   \n",
      "347233         3            0            4           0           0          0   \n",
      "428984         3            0           11           0           0          0   \n",
      "426167         3            2            4           0           0          0   \n",
      "441321         2            0            3           2           0          0   \n",
      "394729         2            0            5           8           2          0   \n",
      "430330         2            0            4           3           0          0   \n",
      "440519         3            0            6           0           0          0   \n",
      "440417         2            0            5           0           0          0   \n",
      "428965         2            1            4           0           0          0   \n",
      "426910         3            0            5           1           0          0   \n",
      "430913         2            1            3          27           0          0   \n",
      "351595         6            2            3           0           0          0   \n",
      "419214         3            0            8           0           0          0   \n",
      "424635         2            0            4           0           0          0   \n",
      "\n",
      "        has_highly_susp_keyword  hostname_length  has_additional_susp_words  \\\n",
      "428645                        0               19                          0   \n",
      "445407                        0               19                          0   \n",
      "430448                        0               32                          0   \n",
      "426069                        0               14                          0   \n",
      "429395                        0               23                          0   \n",
      "430441                        0               22                          0   \n",
      "424519                        0               17                          0   \n",
      "443903                        1               26                          0   \n",
      "449512                        1               36                          0   \n",
      "430432                        0               23                          0   \n",
      "430998                        0               24                          0   \n",
      "396346                        1               18                          0   \n",
      "346283                        0               28                          0   \n",
      "398754                        0               16                          0   \n",
      "415840                        0               24                          0   \n",
      "427376                        0               22                          0   \n",
      "347233                        1               15                          0   \n",
      "428984                        0               13                          0   \n",
      "426167                        1               14                          0   \n",
      "441321                        0               15                          0   \n",
      "394729                        0               16                          0   \n",
      "430330                        0               13                          0   \n",
      "440519                        0               22                          0   \n",
      "440417                        0               17                          0   \n",
      "428965                        0               24                          0   \n",
      "426910                        1               16                          0   \n",
      "430913                        0               15                          0   \n",
      "351595                        1               38                          0   \n",
      "419214                        0               13                          0   \n",
      "424635                        0               20                          0   \n",
      "\n",
      "        has_suspicious_tld  ...  AtSymbol  NumUnderscore  HasQueryString  \\\n",
      "428645                   0  ...         0              0               0   \n",
      "445407                   0  ...         0             11               0   \n",
      "430448                   0  ...         0              0               0   \n",
      "426069                   0  ...         0              0               0   \n",
      "429395                   0  ...         0              0               0   \n",
      "430441                   0  ...         0              0               0   \n",
      "424519                   0  ...         0              0               0   \n",
      "443903                   0  ...         0              0               0   \n",
      "449512                   0  ...         0              0               0   \n",
      "430432                   0  ...         0              0               0   \n",
      "430998                   0  ...         0              0               0   \n",
      "396346                   0  ...         0              0               0   \n",
      "346283                   0  ...         0              0               0   \n",
      "398754                   0  ...         0              0               0   \n",
      "415840                   0  ...         0              0               0   \n",
      "427376                   0  ...         0              0               0   \n",
      "347233                   0  ...         0              0               0   \n",
      "428984                   0  ...         0              0               0   \n",
      "426167                   0  ...         0              0               0   \n",
      "441321                   0  ...         0              0               0   \n",
      "394729                   0  ...         0              1               0   \n",
      "430330                   0  ...         0              0               0   \n",
      "440519                   0  ...         0              0               0   \n",
      "440417                   0  ...         0              0               0   \n",
      "428965                   0  ...         0              0               0   \n",
      "426910                   0  ...         0              0               0   \n",
      "430913                   0  ...         0              0               0   \n",
      "351595                   0  ...         0              0               0   \n",
      "419214                   0  ...         0              1               0   \n",
      "424635                   0  ...         0              0               0   \n",
      "\n",
      "        path_length  has_susp_word_in_path  has_susp_word_in_hostname  \\\n",
      "428645           38                      0                          0   \n",
      "445407           30                      0                          0   \n",
      "430448           52                      0                          0   \n",
      "426069           32                      0                          0   \n",
      "429395           10                      0                          0   \n",
      "430441           29                      0                          0   \n",
      "424519           13                      0                          0   \n",
      "443903           21                      1                          0   \n",
      "449512            1                      0                          1   \n",
      "430432           22                      0                          0   \n",
      "430998            7                      0                          0   \n",
      "396346           25                      1                          0   \n",
      "346283           18                      0                          0   \n",
      "398754           31                      0                          0   \n",
      "415840            7                      0                          0   \n",
      "427376           25                      0                          0   \n",
      "347233           25                      1                          0   \n",
      "428984           73                      0                          0   \n",
      "426167           29                      1                          0   \n",
      "441321            1                      0                          0   \n",
      "394729           11                      0                          0   \n",
      "430330            7                      0                          0   \n",
      "440519           47                      0                          0   \n",
      "440417           17                      0                          0   \n",
      "428965           11                      0                          0   \n",
      "426910           25                      1                          0   \n",
      "430913           51                      0                          0   \n",
      "351595           28                      1                          0   \n",
      "419214           74                      0                          0   \n",
      "424635            6                      0                          0   \n",
      "\n",
      "        max_dir_length  true_label  predicted_label  \\\n",
      "428645              16           1                0   \n",
      "445407              12           1                0   \n",
      "430448              16           1                0   \n",
      "426069              22           1                0   \n",
      "429395               8           1                0   \n",
      "430441              16           1                0   \n",
      "424519               6           1                0   \n",
      "443903              11           1                0   \n",
      "449512               0           1                0   \n",
      "430432              10           1                0   \n",
      "430998               5           1                0   \n",
      "396346              10           1                0   \n",
      "346283              13           1                0   \n",
      "398754              13           1                0   \n",
      "415840               5           1                0   \n",
      "427376              10           1                0   \n",
      "347233              14           1                0   \n",
      "428984              10           1                0   \n",
      "426167              19           1                0   \n",
      "441321               0           1                0   \n",
      "394729               8           1                0   \n",
      "430330               5           1                0   \n",
      "440519              20           1                0   \n",
      "440417               8           1                0   \n",
      "428965               9           1                0   \n",
      "426910              11           1                0   \n",
      "430913              50           1                0   \n",
      "351595              27           1                0   \n",
      "419214              18           1                0   \n",
      "424635               4           1                0   \n",
      "\n",
      "                                                      url  \n",
      "428645  http://www.rodrigueweb.com/medias/transferbigf...  \n",
      "445407  http://www.importarmas.com/modules/mod_feed/Al...  \n",
      "430448  http://www.incontinencesupportgroup.com/chat/t...  \n",
      "426069  https://www.otofun.net/members/alibaba40bandit...  \n",
      "429395           http://www.madridexcelente.com/empresas/  \n",
      "430441  http://www.midnightgarage.net/trekimages/x574g...  \n",
      "424519              http://www.jsnapshot.com/ling/Gdoccc/  \n",
      "443903  http://www.auditionconnection.com/includes/coo...  \n",
      "449512       http://www.paypal.service-accountupdate.com/  \n",
      "430432  http://www.joyfullivingnow.net/front-page/host...  \n",
      "430998             http://www.reardenmetalprep.com/audio/  \n",
      "396346  http://www.office-112.com/wp-comment/adm/index...  \n",
      "346283  http://www.craftinghopethemovie.com/att/Indexx...  \n",
      "398754  http://www.ispysoft.com/iSpySoft/Recover/Messe...  \n",
      "415840             http://www.biometric-fisher.net/Panel/  \n",
      "427376  http://www.micaintherough.com/wp-content/hot-m...  \n",
      "347233    http://www.niqqita.com/secureapproved/login.php  \n",
      "428984  http://www.zxpos.net/tpl/Chat/nuchinucah/sichi...  \n",
      "426167  http://www.justmg.com/wp-admin/Etisalat-update...  \n",
      "441321                            http://www.itau2x1.com/  \n",
      "394729  http://www.hightail.com/download/e?phi_action=...  \n",
      "430330                        http://www.zp100.com/flash/  \n",
      "440519  http://www.jasminegallery.com/moonboatbaby.com...  \n",
      "440417          http://www.kalemprom.com/includes/epoost/  \n",
      "428965         http://www.plastikcopkovasi.net/cgi-quota/  \n",
      "426910   http://www.alvahart.com/media/mailin/really2.php  \n",
      "430913  http://www.flexmail.eu/m-d8b4a4b3b3dbff4ad52c1...  \n",
      "351595  http://www.informationcratax-user.from-nm.com/...  \n",
      "419214  http://www.nesmed.it/classes/wellsfargo/wellsf...  \n",
      "424635                  http://www.zygomadental.com/SMBT/  \n",
      "\n",
      "[30 rows x 30 columns]\n"
     ]
    }
   ],
   "source": [
    "if 'url' in df_RF.columns:\n",
    "    results_df['url'] = df_RF.loc[results_df.index, 'url']\n",
    "\n",
    "false_negatives_df = results_df[(results_df['true_label'] == 1) & (results_df['predicted_label'] == 0)]\n",
    "\n",
    "print(f\"Found {len(false_negatives_df)} false negatives to analyze.\")\n",
    "print(false_negatives_df.head(30))"
   ]
  },
  {
   "cell_type": "code",
   "execution_count": null,
   "id": "51c37796",
   "metadata": {},
   "outputs": [
    {
     "name": "stdout",
     "output_type": "stream",
     "text": [
      "Building N-gram frequency model from benign training data...\n",
      "N-gram model built successfully.\n"
     ]
    }
   ],
   "source": [
    "\n",
    "train_urls = df_RF.loc[X_train.index]['url']\n",
    "\n",
    "benign_train_urls = train_urls[y_train == 0]\n",
    "\n",
    "from collections import defaultdict\n",
    "\n",
    "ngram_freqs = defaultdict(int)\n",
    "total_ngrams = 0\n",
    "\n",
    "print(\"Building N-gram frequency model from benign training data...\")\n",
    "for url in benign_train_urls:\n",
    "    try:\n",
    "        hostname = urlparse(url).hostname\n",
    "        if hostname:\n",
    "            domain_parts = hostname.split('.')\n",
    "            if len(domain_parts) > 2 and domain_parts[0] == 'www':\n",
    "                core_domain = domain_parts[1]\n",
    "            elif len(domain_parts) > 1:\n",
    "                core_domain = domain_parts[0]\n",
    "            else:\n",
    "                core_domain = hostname\n",
    "            \n",
    "            for i in range(len(core_domain) - 1):\n",
    "                ngram = core_domain[i:i+2]\n",
    "                ngram_freqs[ngram] += 1\n",
    "                total_ngrams += 1\n",
    "            for i in range(len(core_domain) - 2):\n",
    "                ngram = core_domain[i:i+3]\n",
    "                ngram_freqs[ngram] += 1\n",
    "                total_ngrams += 1\n",
    "    except:\n",
    "        continue\n",
    "\n",
    "for ngram in ngram_freqs:\n",
    "    ngram_freqs[ngram] = ngram_freqs[ngram] / total_ngrams\n",
    "\n",
    "print(\"N-gram model built successfully.\")"
   ]
  },
  {
   "cell_type": "code",
   "execution_count": null,
   "id": "015aa89c",
   "metadata": {},
   "outputs": [],
   "source": [
    "import numpy as np\n",
    "\n",
    "\n",
    "def calculate_uncommonness_score(text, ngram_model, total_ngrams):\n",
    "    if not isinstance(text, str) or not text:\n",
    "        return 0\n",
    "        \n",
    "    score = 0\n",
    "    num_ngrams_in_text = 0\n",
    "    \n",
    "    for i in range(len(text) - 1):\n",
    "        ngram = text[i:i+2]\n",
    "        prob = ngram_model.get(ngram, 1.0 / (total_ngrams + 1))\n",
    "        score += -np.log(prob)\n",
    "        num_ngrams_in_text += 1\n",
    "        \n",
    "    for i in range(len(text) - 2):\n",
    "        ngram = text[i:i+3]\n",
    "        prob = ngram_model.get(ngram, 1.0 / (total_ngrams + 1))\n",
    "        score += -np.log(prob)\n",
    "        num_ngrams_in_text += 1\n",
    "        \n",
    "    if num_ngrams_in_text == 0:\n",
    "        return 0\n",
    "    return score / num_ngrams_in_text"
   ]
  },
  {
   "cell_type": "code",
   "execution_count": null,
   "id": "f8689a72",
   "metadata": {},
   "outputs": [],
   "source": [
    "from urllib.parse import urlparse\n",
    "import pandas as pd\n",
    "\n",
    "\n",
    "def robust_url_parser(url):\n",
    "    default_return = ('', '', '', 0) \n",
    "    if not isinstance(url, str):\n",
    "        return default_return\n",
    "    try:\n",
    "        parsed = urlparse(url)\n",
    "        hostname = parsed.hostname if parsed.hostname else ''\n",
    "        path = parsed.path if parsed.path else ''\n",
    "        \n",
    "        directories = [d for d in path.split('/') if d]\n",
    "        if not directories:\n",
    "            longest_dir, max_len = '', 0\n",
    "        else:\n",
    "            longest_dir = max(directories, key=len)\n",
    "            max_len = len(longest_dir)\n",
    "            \n",
    "        return hostname, path, longest_dir, max_len\n",
    "    except ValueError:\n",
    "        return default_return"
   ]
  },
  {
   "cell_type": "code",
   "execution_count": null,
   "id": "d1ced997",
   "metadata": {},
   "outputs": [
    {
     "name": "stdout",
     "output_type": "stream",
     "text": [
      "URL component columns already exist. Skipping parsing.\n"
     ]
    }
   ],
   "source": [
    "component_cols = ['hostname2', 'path', 'longest_dir', 'max_dir_len']\n",
    "\n",
    "if not all(col in df_RF.columns for col in component_cols):\n",
    "    print(\"Parsing URL components safely...\")\n",
    "    parsed_components = df_RF['url'].apply(robust_url_parser)\n",
    "    components_df = pd.DataFrame(parsed_components.tolist(), index=df_RF.index, columns=component_cols)\n",
    "    df_RF = df_RF.join(components_df)\n",
    "    print(\"URL components added.\")\n",
    "else:\n",
    "    print(\"URL component columns already exist. Skipping parsing.\")"
   ]
  },
  {
   "cell_type": "code",
   "execution_count": null,
   "id": "21be6d47",
   "metadata": {},
   "outputs": [
    {
     "name": "stdout",
     "output_type": "stream",
     "text": [
      "Creating N-gram features from safe columns...\n",
      "N-gram features created.\n"
     ]
    }
   ],
   "source": [
    "ngram_feature_cols = ['hostname_uncommonness', 'longest_dir_uncommonness']\n",
    "\n",
    "if not all(col in df_RF.columns for col in ngram_feature_cols):\n",
    "    print(\"Creating N-gram features from safe columns...\")\n",
    "    df_RF['hostname_uncommonness'] = df_RF['hostname'].apply(\n",
    "        lambda h: calculate_uncommonness_score(h, ngram_freqs, total_ngrams)\n",
    "    )\n",
    "    df_RF['longest_dir_uncommonness'] = df_RF['longest_dir'].apply(\n",
    "        lambda d: calculate_uncommonness_score(d, ngram_freqs, total_ngrams)\n",
    "    )\n",
    "    print(\"N-gram features created.\")\n",
    "else:\n",
    "    print(\"N-gram features already exist. Skipping creation.\")"
   ]
  }
 ],
 "metadata": {
  "kernelspec": {
   "display_name": "venv",
   "language": "python",
   "name": "python3"
  },
  "language_info": {
   "codemirror_mode": {
    "name": "ipython",
    "version": 3
   },
   "file_extension": ".py",
   "mimetype": "text/x-python",
   "name": "python",
   "nbconvert_exporter": "python",
   "pygments_lexer": "ipython3",
   "version": "3.10.9"
  }
 },
 "nbformat": 4,
 "nbformat_minor": 5
}
