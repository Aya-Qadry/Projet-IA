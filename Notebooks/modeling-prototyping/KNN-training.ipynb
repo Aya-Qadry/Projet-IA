{
 "cells": [
  {
   "cell_type": "code",
   "execution_count": 47,
   "id": "fa2eadb4",
   "metadata": {},
   "outputs": [],
   "source": [
    "import pandas as pd\n",
    "import numpy as np\n",
    "from sklearn.model_selection import train_test_split\n",
    "from sklearn.neighbors import KNeighborsClassifier\n",
    "from sklearn.preprocessing import StandardScaler\n",
    "from sklearn.metrics import classification_report, confusion_matrix\n",
    "from sklearn.utils import resample\n",
    "import matplotlib.pyplot as plt \n",
    "from sklearn.preprocessing import MinMaxScaler"
   ]
  },
  {
   "cell_type": "code",
   "execution_count": 48,
   "id": "e9493a05",
   "metadata": {},
   "outputs": [],
   "source": [
    "df = pd.read_csv(\"../../Data/processed/final.csv\") "
   ]
  },
  {
   "cell_type": "code",
   "execution_count": 49,
   "id": "19f8b2ba",
   "metadata": {},
   "outputs": [],
   "source": [
    "df['has_https'] = df['url'].str.startswith('https://').astype(int)"
   ]
  },
  {
   "cell_type": "code",
   "execution_count": 50,
   "id": "0a3a2d9b",
   "metadata": {},
   "outputs": [
    {
     "name": "stdout",
     "output_type": "stream",
     "text": [
      "<class 'pandas.core.frame.DataFrame'>\n",
      "RangeIndex: 545484 entries, 0 to 545483\n",
      "Data columns (total 37 columns):\n",
      " #   Column                     Non-Null Count   Dtype  \n",
      "---  ------                     --------------   -----  \n",
      " 0   url                        545484 non-null  object \n",
      " 1   label                      545484 non-null  object \n",
      " 2   num_dots                   545484 non-null  int64  \n",
      " 3   num_hyphens                545484 non-null  int64  \n",
      " 4   num_slashes                545484 non-null  int64  \n",
      " 5   num_digits                 545484 non-null  int64  \n",
      " 6   num_equals                 545484 non-null  int64  \n",
      " 7   ip_in_url                  545484 non-null  int64  \n",
      " 8   has_highly_susp_keyword    545484 non-null  int64  \n",
      " 9   hostname_length            545484 non-null  int64  \n",
      " 10  has_additional_susp_words  545484 non-null  int64  \n",
      " 11  has_susp_word_in_path      545484 non-null  int64  \n",
      " 12  has_susp_word_in_hostname  545484 non-null  int64  \n",
      " 13  has_suspicious_tld         545484 non-null  int64  \n",
      " 14  has_uncommon_tld           545484 non-null  int64  \n",
      " 15  url_entropy                545484 non-null  float64\n",
      " 16  subdomain_count            545484 non-null  int64  \n",
      " 17  no_www                     545484 non-null  int64  \n",
      " 18  tld_length                 545484 non-null  int64  \n",
      " 19  short_url                  545484 non-null  int64  \n",
      " 20  consonant_pair_ratio       545484 non-null  float64\n",
      " 21  punctuation_density        545484 non-null  float64\n",
      " 22  hex_encoding_count         545484 non-null  int64  \n",
      " 23  num_subdirs                545484 non-null  int64  \n",
      " 24  AtSymbol                   545484 non-null  int64  \n",
      " 25  NumUnderscore              545484 non-null  int64  \n",
      " 26  HasQueryString             545484 non-null  int64  \n",
      " 27  path_length                545484 non-null  int64  \n",
      " 28  max_dir_length             545484 non-null  int64  \n",
      " 29  result                     545484 non-null  float64\n",
      " 30  hostname                   545480 non-null  object \n",
      " 31  path                       540225 non-null  object \n",
      " 32  longest_dir                484959 non-null  object \n",
      " 33  max_dir_len                545484 non-null  int64  \n",
      " 34  hostname_uncommonness      545484 non-null  float64\n",
      " 35  longest_dir_uncommonness   545484 non-null  float64\n",
      " 36  has_https                  545484 non-null  int64  \n",
      "dtypes: float64(6), int64(26), object(5)\n",
      "memory usage: 154.0+ MB\n"
     ]
    }
   ],
   "source": [
    "df.info()"
   ]
  },
  {
   "cell_type": "code",
   "execution_count": 51,
   "id": "52605b9f",
   "metadata": {},
   "outputs": [],
   "source": [
    "TARGET_COL = 'result'\n",
    "\n",
    "feature_cols = [\n",
    "    'num_dots',\n",
    "    'num_hyphens', \n",
    "    'num_slashes',\n",
    "    'num_digits',\n",
    "    'num_equals',\n",
    "    'ip_in_url',\n",
    "    'has_highly_susp_keyword',\n",
    "    'hostname_length',\n",
    "    'has_additional_susp_words',\n",
    "    'has_susp_word_in_path',\n",
    "    'has_susp_word_in_hostname',\n",
    "    'has_suspicious_tld',\n",
    "    'has_uncommon_tld',\n",
    "    'url_entropy',\n",
    "    'subdomain_count',\n",
    "    'no_www',\n",
    "    'tld_length',\n",
    "    'short_url',\n",
    "    'consonant_pair_ratio',\n",
    "    'punctuation_density',\n",
    "    'hex_encoding_count',\n",
    "    'num_subdirs',\n",
    "    'AtSymbol',\n",
    "    # 'has_https',\n",
    "    'NumUnderscore',\n",
    "    'HasQueryString',\n",
    "    # 'filename_length',\n",
    "\n",
    "    'path_length',\n",
    "    \n",
    "    'max_dir_length',\n",
    "\n",
    "    'hostname_uncommonness',\n",
    "    'longest_dir_uncommonness'\n",
    "]\n",
    "\n",
    "\n",
    "X = df[feature_cols] \n",
    "y = df[TARGET_COL]   "
   ]
  },
  {
   "cell_type": "code",
   "execution_count": 52,
   "id": "f8f22d6c",
   "metadata": {},
   "outputs": [],
   "source": [
    "# from sklearn.feature_selection import RFE\n",
    "# from sklearn.linear_model import LogisticRegression\n",
    "\n",
    "# model = LogisticRegression(max_iter=1000)\n",
    "\n",
    "# rfe = RFE(model, n_features_to_select=10)\n",
    "\n",
    "# rfe.fit(X, y)\n",
    "\n",
    "# selected_features = rfe.support_\n",
    "\n",
    "# selected_feature_names = X.columns[selected_features]\n",
    "# print(\"Selected features by RFE:\", selected_feature_names.tolist())"
   ]
  },
  {
   "cell_type": "code",
   "execution_count": 53,
   "id": "77648797",
   "metadata": {},
   "outputs": [],
   "source": [
    "X_train, X_test, y_train, y_test = train_test_split(X, y, stratify=y, test_size=0.2, random_state=42)\n",
    "\n",
    "scaler = StandardScaler()\n",
    "X_train_scaled = scaler.fit_transform(X_train)\n",
    "X_test_scaled = scaler.transform(X_test)"
   ]
  },
  {
   "cell_type": "code",
   "execution_count": 54,
   "id": "4d88d1eb",
   "metadata": {},
   "outputs": [],
   "source": [
    "knn = KNeighborsClassifier(n_neighbors=5, weights='distance', metric='minkowski')\n",
    "knn.fit(X_train_scaled, y_train)\n",
    "\n",
    "y_pred = knn.predict(X_test_scaled)"
   ]
  },
  {
   "cell_type": "code",
   "execution_count": 55,
   "id": "39d2ce2f",
   "metadata": {},
   "outputs": [
    {
     "data": {
      "text/markdown": [
       "**Accuracy:** `0.9858`"
      ],
      "text/plain": [
       "<IPython.core.display.Markdown object>"
      ]
     },
     "metadata": {},
     "output_type": "display_data"
    },
    {
     "data": {
      "text/markdown": [
       "**Matrice de confusion:**\n",
       "```\n",
       "[[68621   527]\n",
       " [ 1023 38926]]\n",
       "```"
      ],
      "text/plain": [
       "<IPython.core.display.Markdown object>"
      ]
     },
     "metadata": {},
     "output_type": "display_data"
    },
    {
     "data": {
      "text/markdown": [
       "**Rapport de classification:**\n",
       "```\n",
       "              precision    recall  f1-score   support\n",
       "\n",
       "         0.0       0.99      0.99      0.99     69148\n",
       "         1.0       0.99      0.97      0.98     39949\n",
       "\n",
       "    accuracy                           0.99    109097\n",
       "   macro avg       0.99      0.98      0.98    109097\n",
       "weighted avg       0.99      0.99      0.99    109097\n",
       "\n",
       "```"
      ],
      "text/plain": [
       "<IPython.core.display.Markdown object>"
      ]
     },
     "metadata": {},
     "output_type": "display_data"
    }
   ],
   "source": [
    "from IPython.display import Markdown, display\n",
    "from sklearn.metrics import classification_report, confusion_matrix, accuracy_score\n",
    "\n",
    "accuracy = accuracy_score(y_test, y_pred)\n",
    "conf = confusion_matrix(y_test, y_pred)\n",
    "report = classification_report(y_test, y_pred)\n",
    "\n",
    "display(Markdown(f\"**Accuracy:** `{accuracy:.4f}`\"))\n",
    "display(Markdown(f\"**Matrice de confusion:**\\n```\\n{conf}\\n```\"))\n",
    "display(Markdown(f\"**Rapport de classification:**\\n```\\n{report}\\n```\"))"
   ]
  },
  {
   "cell_type": "code",
   "execution_count": 56,
   "id": "9b215c60",
   "metadata": {},
   "outputs": [
    {
     "data": {
      "text/markdown": [
       "**precision:** `0.9866`"
      ],
      "text/plain": [
       "<IPython.core.display.Markdown object>"
      ]
     },
     "metadata": {},
     "output_type": "display_data"
    },
    {
     "data": {
      "text/markdown": [
       "**recall:** `0.9744`"
      ],
      "text/plain": [
       "<IPython.core.display.Markdown object>"
      ]
     },
     "metadata": {},
     "output_type": "display_data"
    },
    {
     "data": {
      "text/markdown": [
       "**f1:** `0.9805`"
      ],
      "text/plain": [
       "<IPython.core.display.Markdown object>"
      ]
     },
     "metadata": {},
     "output_type": "display_data"
    }
   ],
   "source": [
    "from sklearn.metrics import classification_report, confusion_matrix, accuracy_score, precision_score, recall_score, f1_score\n",
    "\n",
    "precision = precision_score(y_test, y_pred)\n",
    "recall = recall_score(y_test, y_pred)\n",
    "f1 = f1_score(y_test, y_pred)\n",
    "\n",
    "conf = confusion_matrix(y_test, y_pred)\n",
    "report = classification_report(y_test, y_pred)\n",
    "\n",
    "display(Markdown(f\"**precision:** `{precision:.4f}`\"))\n",
    "display(Markdown(f\"**recall:** `{recall:.4f}`\"))\n",
    "display(Markdown(f\"**f1:** `{f1:.4f}`\"))"
   ]
  },
  {
   "cell_type": "code",
   "execution_count": 57,
   "id": "f27f03f3",
   "metadata": {},
   "outputs": [],
   "source": [
    "# knn = KNeighborsClassifier(n_neighbors=5)\n",
    "# knn.fit(X_train_scaled, y_train)\n",
    "# y_pred = knn.predict(X_test_scaled)\n",
    "\n",
    "# print(confusion_matrix(y_test, y_pred))\n",
    "# print(classification_report(y_test, y_pred))"
   ]
  },
  {
   "cell_type": "code",
   "execution_count": 58,
   "id": "53c4011e",
   "metadata": {},
   "outputs": [],
   "source": [
    "# knn = KNeighborsClassifier(n_neighbors=5, weights='distance')\n",
    "# knn.fit(X_train_scaled, y_train)\n",
    "\n",
    "# y_pred = knn.predict(X_test_scaled)\n",
    "\n",
    "# print(confusion_matrix(y_test, y_pred))\n",
    "# print(classification_report(y_test, y_pred))\n"
   ]
  },
  {
   "cell_type": "code",
   "execution_count": 59,
   "id": "9eb35c5a",
   "metadata": {},
   "outputs": [],
   "source": [
    "# false_negatives_mask = (y_test == 1) & (y_pred == 0)\n",
    "# false_negatives_indices = X_test[false_negatives_mask].index\n",
    "\n",
    "# false_negatives = df.loc[false_negatives_indices]\n",
    "\n",
    "# print(f\"Number of false negatives: {len(false_negatives)}\")\n",
    "# print(\"\\nSample of false negative URLs:\")\n",
    "# print(false_negatives[['url', 'label', 'hostname_length', 'url_entropy', 'num_dots', 'num_slashes', 'num_digits']].head(10))\n",
    "\n",
    "# malicious_mask = df['result'] == 1\n",
    "# true_malicious = df[malicious_mask]\n",
    "\n",
    "# print(\"\\nFeature averages comparison:\")\n",
    "# print(\"\\nFalse Negatives vs All Malicious URLs:\")\n",
    "# comparison_features = ['hostname_length', 'url_entropy', 'num_dots', 'num_slashes', \n",
    "#                       'num_digits', 'subdomain_count', 'consonant_pair_ratio']\n",
    "                      \n",
    "# for feature in comparison_features:\n",
    "#     fn_avg = false_negatives[feature].mean()\n",
    "#     mal_avg = true_malicious[feature].mean()\n",
    "#     print(f\"{feature}:\")\n",
    "#     print(f\"  False Negatives: {fn_avg:.2f}\")\n",
    "#     print(f\"  All Malicious:  {mal_avg:.2f}\")"
   ]
  },
  {
   "cell_type": "code",
   "execution_count": 60,
   "id": "3e70c1e0",
   "metadata": {},
   "outputs": [],
   "source": [
    "# knn = KNeighborsClassifier(n_neighbors=3)   \n",
    "# knn.fit(X_train_scaled, y_train)\n",
    "\n",
    "# y_pred = knn.predict(X_test_scaled)\n",
    "\n",
    "# print(confusion_matrix(y_test, y_pred))\n",
    "# print(classification_report(y_test, y_pred))\n"
   ]
  }
 ],
 "metadata": {
  "kernelspec": {
   "display_name": "venv",
   "language": "python",
   "name": "python3"
  },
  "language_info": {
   "codemirror_mode": {
    "name": "ipython",
    "version": 3
   },
   "file_extension": ".py",
   "mimetype": "text/x-python",
   "name": "python",
   "nbconvert_exporter": "python",
   "pygments_lexer": "ipython3",
   "version": "3.10.9"
  }
 },
 "nbformat": 4,
 "nbformat_minor": 5
}
