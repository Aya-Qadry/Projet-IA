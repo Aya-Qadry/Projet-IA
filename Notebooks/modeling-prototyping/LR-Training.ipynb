{
 "cells": [
  {
   "cell_type": "code",
   "execution_count": 77,
   "id": "17530c84",
   "metadata": {},
   "outputs": [],
   "source": [
    "import pandas as pd\n",
    "import numpy as np\n",
    "from sklearn.model_selection import train_test_split\n",
    "from sklearn.preprocessing import StandardScaler\n",
    "from sklearn.linear_model import LogisticRegression\n",
    "from sklearn.metrics import accuracy_score, confusion_matrix, classification_report, roc_auc_score, precision_score, recall_score, f1_score, roc_curve\n",
    "import matplotlib.pyplot as plt\n",
    "import seaborn as sns\n"
   ]
  },
  {
   "cell_type": "code",
   "execution_count": 78,
   "id": "2202e462",
   "metadata": {},
   "outputs": [],
   "source": [
    "df = pd.read_csv(\"../../Data/processed/final.csv\")"
   ]
  },
  {
   "cell_type": "code",
   "execution_count": 79,
   "id": "4557560f",
   "metadata": {},
   "outputs": [],
   "source": [
    "df['has_https'] = df['url'].str.startswith('https://').astype(int)"
   ]
  },
  {
   "cell_type": "code",
   "execution_count": 80,
   "id": "8115adde",
   "metadata": {},
   "outputs": [],
   "source": [
    "TARGET_COL = 'result'\n",
    "\n",
    "feature_cols = [\n",
    "    'num_dots',\n",
    "    'num_hyphens', \n",
    "    'num_slashes',\n",
    "    'num_digits',\n",
    "    'num_equals',\n",
    "    'ip_in_url',\n",
    "    'has_highly_susp_keyword',\n",
    "    'hostname_length',\n",
    "    'has_additional_susp_words',\n",
    "    'has_susp_word_in_path',\n",
    "    'has_susp_word_in_hostname',\n",
    "    'has_suspicious_tld',\n",
    "    'has_uncommon_tld',\n",
    "    'url_entropy',\n",
    "    'subdomain_count',\n",
    "    'tld_length',\n",
    "    'short_url',\n",
    "    'consonant_pair_ratio',\n",
    "    'punctuation_density',\n",
    "    'hex_encoding_count',\n",
    "    'num_subdirs',\n",
    "    'has_https',\n",
    "    'AtSymbol',\n",
    "    'NumUnderscore',\n",
    "    'HasQueryString',\n",
    "    # 'filename_length',\n",
    "\n",
    "    'path_length',\n",
    "    'max_dir_length',\n",
    "\n",
    "    'hostname_uncommonness',\n",
    "    'longest_dir_uncommonness'\n",
    "]\n",
    "\n",
    "\n",
    "X = df[feature_cols]  \n",
    "y = df[TARGET_COL]   "
   ]
  },
  {
   "cell_type": "code",
   "execution_count": 81,
   "id": "c3279b28",
   "metadata": {},
   "outputs": [],
   "source": [
    "X_train, X_test, y_train, y_test = train_test_split(\n",
    "    X, y, test_size=0.2, random_state=42, stratify=y\n",
    ")"
   ]
  },
  {
   "cell_type": "code",
   "execution_count": 82,
   "id": "e2d379da",
   "metadata": {},
   "outputs": [],
   "source": [
    "scaler = StandardScaler()\n",
    "X_train_scaled = scaler.fit_transform(X_train)\n",
    "X_test_scaled = scaler.transform(X_test)"
   ]
  },
  {
   "cell_type": "code",
   "execution_count": 83,
   "id": "79a91906",
   "metadata": {},
   "outputs": [
    {
     "name": "stdout",
     "output_type": "stream",
     "text": [
      "LR model trained .\n"
     ]
    }
   ],
   "source": [
    "lr_model = LogisticRegression(\n",
    "    random_state=42,\n",
    "    max_iter=1000,\n",
    "    solver='lbfgs',\n",
    "    class_weight='balanced',\n",
    ")\n",
    "lr_model.fit(X_train_scaled, y_train)\n",
    "print(\"LR model trained .\")"
   ]
  },
  {
   "cell_type": "code",
   "execution_count": 84,
   "id": "aaa0ded9",
   "metadata": {},
   "outputs": [],
   "source": [
    "y_pred = lr_model.predict(X_test_scaled)\n",
    "y_pred_proba = lr_model.predict_proba(X_test_scaled)[:, 1]"
   ]
  },
  {
   "cell_type": "code",
   "execution_count": 85,
   "id": "8aa86873",
   "metadata": {},
   "outputs": [
    {
     "data": {
      "text/markdown": [
       "**Accuracy:** `0.9912`"
      ],
      "text/plain": [
       "<IPython.core.display.Markdown object>"
      ]
     },
     "metadata": {},
     "output_type": "display_data"
    },
    {
     "data": {
      "text/markdown": [
       "**precision:** `0.9967`"
      ],
      "text/plain": [
       "<IPython.core.display.Markdown object>"
      ]
     },
     "metadata": {},
     "output_type": "display_data"
    },
    {
     "data": {
      "text/markdown": [
       "**recall:** `0.9793`"
      ],
      "text/plain": [
       "<IPython.core.display.Markdown object>"
      ]
     },
     "metadata": {},
     "output_type": "display_data"
    },
    {
     "data": {
      "text/markdown": [
       "**f1:** `0.9879`"
      ],
      "text/plain": [
       "<IPython.core.display.Markdown object>"
      ]
     },
     "metadata": {},
     "output_type": "display_data"
    },
    {
     "data": {
      "text/markdown": [
       "**Matrice de confusion:**\n",
       "```\n",
       "[[69017   131]\n",
       " [  826 39123]]\n",
       "```"
      ],
      "text/plain": [
       "<IPython.core.display.Markdown object>"
      ]
     },
     "metadata": {},
     "output_type": "display_data"
    },
    {
     "data": {
      "text/markdown": [
       "**Rapport de classification:**\n",
       "```\n",
       "              precision    recall  f1-score   support\n",
       "\n",
       "         0.0       0.99      1.00      0.99     69148\n",
       "         1.0       1.00      0.98      0.99     39949\n",
       "\n",
       "    accuracy                           0.99    109097\n",
       "   macro avg       0.99      0.99      0.99    109097\n",
       "weighted avg       0.99      0.99      0.99    109097\n",
       "\n",
       "```"
      ],
      "text/plain": [
       "<IPython.core.display.Markdown object>"
      ]
     },
     "metadata": {},
     "output_type": "display_data"
    }
   ],
   "source": [
    "from IPython.display import Markdown, display\n",
    "from sklearn.metrics import classification_report, confusion_matrix, accuracy_score\n",
    "\n",
    "\n",
    "accuracy = accuracy_score(y_test, y_pred)\n",
    "precision = precision_score(y_test, y_pred)\n",
    "recall = recall_score(y_test, y_pred)\n",
    "f1 = f1_score(y_test, y_pred)\n",
    "\n",
    "conf = confusion_matrix(y_test, y_pred)\n",
    "report = classification_report(y_test, y_pred)\n",
    "\n",
    "display(Markdown(f\"**Accuracy:** `{accuracy:.4f}`\"))\n",
    "display(Markdown(f\"**precision:** `{precision:.4f}`\"))\n",
    "display(Markdown(f\"**recall:** `{recall:.4f}`\"))\n",
    "display(Markdown(f\"**f1:** `{f1:.4f}`\"))\n",
    "\n",
    "display(Markdown(f\"**Matrice de confusion:**\\n```\\n{conf}\\n```\"))\n",
    "display(Markdown(f\"**Rapport de classification:**\\n```\\n{report}\\n```\"))\n"
   ]
  },
  {
   "cell_type": "code",
   "execution_count": null,
   "id": "e1a955af",
   "metadata": {},
   "outputs": [
    {
     "name": "stdout",
     "output_type": "stream",
     "text": [
      "Accuracy: 0.3734 (37.34%)\n",
      "Precision: 0.9967 (99.67%)\n",
      "Recall: 0.9793 (97.93%)\n",
      "F1-Score: 0.9879 (98.79%)\n"
     ]
    },
    {
     "name": "stderr",
     "output_type": "stream",
     "text": [
      "c:\\Users\\Lenovo\\Documents\\FSTE\\S4\\AI\\project\\Malicious-URLs\\venv\\lib\\site-packages\\sklearn\\utils\\validation.py:2742: UserWarning: X has feature names, but LogisticRegression was fitted without feature names\n",
      "  warnings.warn(\n"
     ]
    }
   ],
   "source": [
    "from sklearn.metrics import classification_report, confusion_matrix, accuracy_score, precision_score, recall_score, f1_score\n",
    "\n",
    "y_pred = lr_model.predict(X_test)\n",
    "y_pred_binary = (y_pred > 0.5).astype(int)  \n",
    "\n",
    "accuracy = accuracy_score(y_test, y_pred_binary)\n",
    "\n",
    "\n",
    "print(f\"Accuracy: {accuracy:.4f} ({accuracy*100:.2f}%)\")\n",
    "print(f\"Precision: {precision:.4f} ({precision*100:.2f}%)\")\n",
    "print(f\"Recall: {recall:.4f} ({recall*100:.2f}%)\")\n",
    "print(f\"F1-Score: {f1:.4f} ({f1*100:.2f}%)\")\n"
   ]
  },
  {
   "cell_type": "code",
   "execution_count": null,
   "id": "334041f1",
   "metadata": {},
   "outputs": [
    {
     "name": "stdout",
     "output_type": "stream",
     "text": [
      "\n",
      "Classification Report:\n",
      "              precision    recall  f1-score   support\n",
      "\n",
      "         0.0       0.98      0.01      0.02     69148\n",
      "         1.0       0.37      1.00      0.54     39949\n",
      "\n",
      "    accuracy                           0.37    109097\n",
      "   macro avg       0.67      0.51      0.28    109097\n",
      "weighted avg       0.75      0.37      0.21    109097\n",
      "\n",
      "[[  804 68344]\n",
      " [   20 39929]]\n"
     ]
    }
   ],
   "source": [
    "\n",
    "print(\"\\nClassification Report:\")\n",
    "print(classification_report(y_test, y_pred))\n",
    "\n",
    "cm = confusion_matrix(y_test, y_pred)\n",
    "print(cm)"
   ]
  },
  {
   "cell_type": "code",
   "execution_count": 88,
   "id": "bb4621b2",
   "metadata": {},
   "outputs": [
    {
     "data": {
      "image/png": "[encoded data removed]",
      "text/plain": [
       "<Figure size 800x600 with 2 Axes>"
      ]
     },
     "metadata": {},
     "output_type": "display_data"
    }
   ],
   "source": [
    "plt.figure(figsize=(8, 6))\n",
    "sns.heatmap(cm, annot=True, fmt='d', cmap='Blues')\n",
    "plt.title('Confusion Matrix')\n",
    "plt.ylabel('Actual')\n",
    "plt.xlabel('Predicted')\n",
    "plt.show()"
   ]
  },
  {
   "cell_type": "code",
   "execution_count": null,
   "id": "a7e33e67",
   "metadata": {},
   "outputs": [
    {
     "name": "stdout",
     "output_type": "stream",
     "text": [
      "        num_dots  num_hyphens  num_slashes  num_digits  num_equals  ip_in_url  \\\n",
      "355045        18            6           18          11           0          0   \n",
      "362981         3            0           21           1           0          0   \n",
      "362965         3            0           24           1           0          0   \n",
      "543251         3           18            3           1           3          0   \n",
      "432322         3           16            5           8           0          0   \n",
      "\n",
      "        has_highly_susp_keyword  hostname_length  has_additional_susp_words  \\\n",
      "355045                        1               17                          0   \n",
      "362981                        0               15                          0   \n",
      "362965                        0               15                          0   \n",
      "543251                        0               20                          0   \n",
      "432322                        1               22                          0   \n",
      "\n",
      "        has_susp_word_in_path  ...  has_https  AtSymbol  NumUnderscore  \\\n",
      "355045                      1  ...          0         0              0   \n",
      "362981                      0  ...          0         0             16   \n",
      "362965                      0  ...          0         0             18   \n",
      "543251                      0  ...          0         0              0   \n",
      "432322                      1  ...          1         0              0   \n",
      "\n",
      "        HasQueryString  path_length  max_dir_length  hostname_uncommonness  \\\n",
      "355045               0          348              31               9.088170   \n",
      "362981               0          221              11               8.423613   \n",
      "362965               0          246              11               8.423613   \n",
      "543251               0          225             224              10.118749   \n",
      "432322               0          118              90              10.155119   \n",
      "\n",
      "        longest_dir_uncommonness  actual_result  predicted_result  \n",
      "355045                 15.286128            1.0               0.0  \n",
      "362981                 10.667132            1.0               0.0  \n",
      "362965                 10.667132            1.0               0.0  \n",
      "543251                  8.103893            1.0               0.0  \n",
      "432322                  9.656860            1.0               0.0  \n",
      "\n",
      "[5 rows x 31 columns]\n"
     ]
    },
    {
     "name": "stderr",
     "output_type": "stream",
     "text": [
      "c:\\Users\\Lenovo\\Documents\\FSTE\\S4\\AI\\project\\Malicious-URLs\\venv\\lib\\site-packages\\sklearn\\utils\\validation.py:2742: UserWarning: X has feature names, but LogisticRegression was fitted without feature names\n",
      "  warnings.warn(\n",
      "C:\\Users\\Lenovo\\AppData\\Local\\Temp\\ipykernel_6920\\4095587136.py:11: SettingWithCopyWarning: \n",
      "A value is trying to be set on a copy of a slice from a DataFrame.\n",
      "Try using .loc[row_indexer,col_indexer] = value instead\n",
      "\n",
      "See the caveats in the documentation: https://pandas.pydata.org/pandas-docs/stable/user_guide/indexing.html#returning-a-view-versus-a-copy\n",
      "  false_negatives['actual_result'] = y_test[false_negatives_mask]\n",
      "C:\\Users\\Lenovo\\AppData\\Local\\Temp\\ipykernel_6920\\4095587136.py:12: SettingWithCopyWarning: \n",
      "A value is trying to be set on a copy of a slice from a DataFrame.\n",
      "Try using .loc[row_indexer,col_indexer] = value instead\n",
      "\n",
      "See the caveats in the documentation: https://pandas.pydata.org/pandas-docs/stable/user_guide/indexing.html#returning-a-view-versus-a-copy\n",
      "  false_negatives['predicted_result'] = y_pred[false_negatives_mask]\n"
     ]
    }
   ],
   "source": [
    "from sklearn.metrics import confusion_matrix\n",
    "\n",
    "y_pred = lr_model.predict(X_test)\n",
    "\n",
    "false_negatives_mask = (y_test == 1) & (y_pred == 0)\n",
    "\n",
    "false_negatives = X_test[false_negatives_mask]\n",
    "false_negatives['actual_result'] = y_test[false_negatives_mask]\n",
    "false_negatives['predicted_result'] = y_pred[false_negatives_mask]\n",
    "\n",
    "print(false_negatives.head())\n"
   ]
  },
  {
   "cell_type": "code",
   "execution_count": 90,
   "id": "a1bc782d",
   "metadata": {},
   "outputs": [
    {
     "name": "stdout",
     "output_type": "stream",
     "text": [
      "Index(['num_dots', 'num_hyphens', 'num_slashes', 'num_digits', 'num_equals',\n",
      "       'ip_in_url', 'has_highly_susp_keyword', 'hostname_length',\n",
      "       'has_additional_susp_words', 'has_susp_word_in_path',\n",
      "       'has_susp_word_in_hostname', 'has_suspicious_tld', 'has_uncommon_tld',\n",
      "       'url_entropy', 'subdomain_count', 'tld_length', 'short_url',\n",
      "       'consonant_pair_ratio', 'punctuation_density', 'hex_encoding_count',\n",
      "       'num_subdirs', 'has_https', 'AtSymbol', 'NumUnderscore',\n",
      "       'HasQueryString', 'path_length', 'max_dir_length',\n",
      "       'hostname_uncommonness', 'longest_dir_uncommonness'],\n",
      "      dtype='object')\n"
     ]
    }
   ],
   "source": [
    "print(X_test.columns)\n"
   ]
  },
  {
   "cell_type": "code",
   "execution_count": 91,
   "id": "11eda5cd",
   "metadata": {},
   "outputs": [
    {
     "name": "stdout",
     "output_type": "stream",
     "text": [
      "        num_dots  num_hyphens  num_slashes  num_digits  num_equals  ip_in_url  \\\n",
      "count  20.000000    20.000000    20.000000   20.000000   20.000000       20.0   \n",
      "mean    5.650000     8.500000     9.600000    4.100000    0.900000        0.0   \n",
      "std     4.648429     7.762935     5.798366    4.666792    2.074913        0.0   \n",
      "min     1.000000     0.000000     3.000000    0.000000    0.000000        0.0   \n",
      "25%     3.000000     1.000000     6.000000    0.750000    0.000000        0.0   \n",
      "50%     3.000000     7.000000     8.000000    2.000000    0.000000        0.0   \n",
      "75%     7.250000    16.500000    11.000000    8.000000    1.000000        0.0   \n",
      "max    18.000000    22.000000    24.000000   14.000000    9.000000        0.0   \n",
      "\n",
      "       has_highly_susp_keyword  hostname_length  has_additional_susp_words  \\\n",
      "count                20.000000        20.000000                       20.0   \n",
      "mean                  0.450000        16.200000                        0.0   \n",
      "std                   0.510418         4.384182                        0.0   \n",
      "min                   0.000000         4.000000                        0.0   \n",
      "25%                   0.000000        14.000000                        0.0   \n",
      "50%                   0.000000        16.500000                        0.0   \n",
      "75%                   1.000000        19.000000                        0.0   \n",
      "max                   1.000000        22.000000                        0.0   \n",
      "\n",
      "       has_susp_word_in_path  ...  has_https   AtSymbol  NumUnderscore  \\\n",
      "count              20.000000  ...  20.000000  20.000000      20.000000   \n",
      "mean                0.450000  ...   0.450000   0.150000      13.250000   \n",
      "std                 0.510418  ...   0.510418   0.366348      44.352505   \n",
      "min                 0.000000  ...   0.000000   0.000000       0.000000   \n",
      "25%                 0.000000  ...   0.000000   0.000000       0.000000   \n",
      "50%                 0.000000  ...   0.000000   0.000000       0.000000   \n",
      "75%                 1.000000  ...   1.000000   0.000000       9.000000   \n",
      "max                 1.000000  ...   1.000000   1.000000     200.000000   \n",
      "\n",
      "       HasQueryString  path_length  max_dir_length  hostname_uncommonness  \\\n",
      "count            20.0    20.000000       20.000000              20.000000   \n",
      "mean              0.0   172.500000       73.650000              10.043113   \n",
      "std               0.0    79.896973       69.121765               1.038618   \n",
      "min               0.0     9.000000        7.000000               8.423613   \n",
      "25%               0.0   110.000000       21.000000               9.288127   \n",
      "50%               0.0   169.500000       37.500000              10.136934   \n",
      "75%               0.0   226.000000      110.500000              10.547954   \n",
      "max               0.0   348.000000      224.000000              11.698451   \n",
      "\n",
      "       longest_dir_uncommonness  actual_result  predicted_result  \n",
      "count                 20.000000           20.0              20.0  \n",
      "mean                  10.392767            1.0               0.0  \n",
      "std                    2.231006            0.0               0.0  \n",
      "min                    6.437374            1.0               0.0  \n",
      "25%                    8.592891            1.0               0.0  \n",
      "50%                   10.473219            1.0               0.0  \n",
      "75%                   11.407069            1.0               0.0  \n",
      "max                   15.286128            1.0               0.0  \n",
      "\n",
      "[8 rows x 31 columns]\n"
     ]
    }
   ],
   "source": [
    "print(false_negatives.describe())\n"
   ]
  },
  {
   "cell_type": "code",
   "execution_count": 92,
   "id": "829a6c56",
   "metadata": {},
   "outputs": [
    {
     "data": {
      "image/png": "[encoded data removed]",
      "text/plain": [
       "<Figure size 800x600 with 1 Axes>"
      ]
     },
     "metadata": {},
     "output_type": "display_data"
    }
   ],
   "source": [
    "fpr, tpr, _ = roc_curve(y_test, y_pred_proba)\n",
    "plt.figure(figsize=(8, 6))\n",
    "plt.plot(fpr, tpr, label=f'ROC Curve (AUC = {roc_auc_score(y_test, y_pred_proba):.4f})')\n",
    "plt.plot([0, 1], [0, 1], 'k--', label='Random')\n",
    "plt.xlabel('False Positive Rate')\n",
    "plt.ylabel('True Positive Rate')\n",
    "plt.title('ROC Curve')\n",
    "plt.legend()\n",
    "plt.show()"
   ]
  },
  {
   "cell_type": "code",
   "execution_count": null,
   "id": "16516647",
   "metadata": {},
   "outputs": [
    {
     "name": "stdout",
     "output_type": "stream",
     "text": [
      "\n",
      "==================================================\n",
      "MODEL SUMMARY\n",
      "==================================================\n",
      "Model: Logistic Regression\n",
      "Features used: 26\n",
      "Training accuracy: 0.9688\n",
      "Test accuracy: 0.9689\n"
     ]
    }
   ],
   "source": [
    "print(\"\\n\" + \"=\"*50)\n",
    "print(\"MODEL SUMMARY\")\n",
    "print(\"=\"*50)\n",
    "print(f\"Model: Logistic Regression\")\n",
    "print(f\"Features used: {len(feature_cols)}\")\n",
    "print(f\"Training accuracy: {lr_model.score(X_train_scaled, y_train):.4f}\")\n",
    "print(f\"Test accuracy: {lr_model.score(X_test_scaled, y_test):.4f}\")"
   ]
  },
  {
   "cell_type": "code",
   "execution_count": null,
   "id": "af2d8b5e",
   "metadata": {},
   "outputs": [
    {
     "name": "stdout",
     "output_type": "stream",
     "text": [
      "Optimal threshold by ROC: 0.3916\n",
      "Threshold for 95% recall: 0.1536\n",
      "\n",
      "Threshold Analysis:\n",
      "Threshold | Precision | Recall | F1-Score | FP | FN\n",
      "-------------------------------------------------------\n",
      "     0.10 |     0.576 |  0.967 |    0.722 | 14864 | 692\n",
      "     0.15 |     0.711 |  0.951 |    0.814 | 8075 | 1026\n",
      "     0.20 |     0.782 |  0.943 |    0.855 | 5500 | 1196\n",
      "     0.25 |     0.833 |  0.937 |    0.882 | 3917 | 1312\n",
      "     0.30 |     0.870 |  0.932 |    0.900 | 2912 | 1412\n",
      "     0.35 |     0.905 |  0.928 |    0.917 | 2034 | 1497\n",
      "     0.40 |     0.928 |  0.924 |    0.926 | 1500 | 1581\n",
      "     0.45 |     0.944 |  0.918 |    0.931 | 1144 | 1704\n",
      "     0.50 |     0.959 |  0.914 |    0.936 | 807 | 1804\n",
      "\n",
      "Best threshold: 0.5 (F1-score: 0.936)\n"
     ]
    }
   ],
   "source": [
    "\n",
    "from sklearn.metrics import roc_curve\n",
    "\n",
    "fpr, tpr, thresholds = roc_curve(y_test, y_proba)\n",
    "\n",
    "optimal_idx = np.argmax(tpr - fpr)\n",
    "optimal_threshold = thresholds[optimal_idx]\n",
    "\n",
    "print(f\"Optimal threshold by ROC: {optimal_threshold:.4f}\")\n",
    "\n",
    "recall_95_idx = np.where(tpr >= 0.95)[0]\n",
    "if len(recall_95_idx) > 0:\n",
    "    recall_95_threshold = thresholds[recall_95_idx[0]]\n",
    "    print(f\"Threshold for 95% recall: {recall_95_threshold:.4f}\")\n",
    "\n",
    "test_thresholds = [0.1, 0.15, 0.2, 0.25, 0.3, 0.35, 0.4, 0.45, 0.5]\n",
    "\n",
    "print(\"\\nThreshold Analysis:\")\n",
    "print(\"Threshold | Precision | Recall | F1-Score | FP | FN\")\n",
    "print(\"-\" * 55)\n",
    "\n",
    "best_f1 = 0\n",
    "best_threshold = 0.5\n",
    "\n",
    "for threshold in test_thresholds:\n",
    "    y_pred_thresh = (y_proba >= threshold).astype(int)\n",
    "    \n",
    "    tn, fp, fn, tp = confusion_matrix(y_test, y_pred_thresh).ravel()\n",
    "    \n",
    "    precision = tp / (tp + fp) if (tp + fp) > 0 else 0\n",
    "    recall = tp / (tp + fn) if (tp + fn) > 0 else 0\n",
    "    f1 = 2 * (precision * recall) / (precision + recall) if (precision + recall) > 0 else 0\n",
    "    \n",
    "    print(f\"{threshold:9.2f} | {precision:9.3f} | {recall:6.3f} | {f1:8.3f} | {fp:2d} | {fn:2d}\")\n",
    "    \n",
    "    if f1 > best_f1:\n",
    "        best_f1 = f1\n",
    "        best_threshold = threshold\n",
    "\n",
    "print(f\"\\nBest threshold: {best_threshold} (F1-score: {best_f1:.3f})\")"
   ]
  }
 ],
 "metadata": {
  "kernelspec": {
   "display_name": "venv",
   "language": "python",
   "name": "python3"
  },
  "language_info": {
   "codemirror_mode": {
    "name": "ipython",
    "version": 3
   },
   "file_extension": ".py",
   "mimetype": "text/x-python",
   "name": "python",
   "nbconvert_exporter": "python",
   "pygments_lexer": "ipython3",
   "version": "3.10.9"
  }
 },
 "nbformat": 4,
 "nbformat_minor": 5
}
